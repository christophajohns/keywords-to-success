{
 "metadata": {
  "language_info": {
   "codemirror_mode": {
    "name": "ipython",
    "version": 3
   },
   "file_extension": ".py",
   "mimetype": "text/x-python",
   "name": "python",
   "nbconvert_exporter": "python",
   "pygments_lexer": "ipython3",
   "version": "3.9.1"
  },
  "orig_nbformat": 2,
  "kernelspec": {
   "name": "python3",
   "display_name": "Python 3.9.1 64-bit ('keywords-to-success-Ud2EvR0_': pipenv)",
   "metadata": {
    "interpreter": {
     "hash": "e78c3ebfc7fe987ac47f88baa309c1b2ce79ddad9e0a0dbdc3167a973eb06a5b"
    }
   }
  }
 },
 "nbformat": 4,
 "nbformat_minor": 2,
 "cells": [
  {
   "source": [
    "# Keyword Analysis of CHI Best Papers 2016-2020\n",
    "\n",
    "In this analysis, we will collect and chart the author keywords used for the Best Paper winners at the Conference on Human Factors in Computing Systems (CHI) from 2016 to 2020.\n",
    "The aim of this research is to identify commonalities between those top 1% of articles honoured by the Best Paper Committee and to explore signficant trends among those."
   ],
   "cell_type": "markdown",
   "metadata": {}
  },
  {
   "source": [
    "## Reading in the data\n",
    "\n",
    "First, we import the necessary packages and read in the keyword data from the respective file."
   ],
   "cell_type": "markdown",
   "metadata": {}
  },
  {
   "cell_type": "code",
   "execution_count": 38,
   "metadata": {},
   "outputs": [],
   "source": [
    "# Imports\n",
    "import pandas as pd\n",
    "\n",
    "# Utility Functions\n",
    "def string_to_list(list_as_string: str, delimiter=\", \") -> list[str]:\n",
    "    \"\"\"A simple function that splits a list input as a string by the specified delimiter and returns the list.\"\"\"\n",
    "    return list_as_string.split(delimiter)\n",
    "\n",
    "def print_dataframe_summary(dataframe: pd.DataFrame, include_description=False, head_nrows=10) -> None:\n",
    "    \"\"\"Uses pandas' info, head, and---depending on the description flag---describe methods to output information about a DataFrame.\"\"\"\n",
    "    print(\"Information about dataframe:\")\n",
    "    print(dataframe.info())\n",
    "    print()\n",
    "    print(\"Top 10 rows of dataframe:\")\n",
    "    print(dataframe.head(n=head_nrows))\n",
    "    if include_description:\n",
    "        print()\n",
    "        print(\"Description of dataframe:\")\n",
    "        print(dataframe.describe())"
   ]
  },
  {
   "cell_type": "code",
   "execution_count": 39,
   "metadata": {},
   "outputs": [
    {
     "output_type": "stream",
     "name": "stdout",
     "text": [
      "Information about dataframe:\n<class 'pandas.core.frame.DataFrame'>\nRangeIndex: 85 entries, 0 to 84\nData columns (total 3 columns):\n #   Column    Non-Null Count  Dtype \n---  ------    --------------  ----- \n 0   year      85 non-null     int64 \n 1   keywords  85 non-null     object\n 2   doi       85 non-null     object\ndtypes: int64(1), object(2)\nmemory usage: 2.1+ KB\nNone\n\nTop 10 rows of dataframe:\n   year                                           keywords  \\\n0  2020  [deception, influence, behavior change, cybers...   \n1  2020  [Visualization, Design Studies, Service-Learni...   \n2  2020  [VR, trigeminal, smell, thermal, illusion, hap...   \n3  2020  [Visualization, Responsive Design, News, Mobil...   \n4  2020  [Hardware device realization, low volume elect...   \n5  2020  [Game-based learning, game design, computation...   \n6  2020  [AR/VR authoring, augmented reality, virtual r...   \n7  2020  [Mobile Video Calls, Distributed Families, Fac...   \n8  2020  [Transgender, non-binary, participatory design...   \n9  2020  [Micro-Phenomenology, User Experience, Empiric...   \n\n                                       doi  \n0  https://doi.org/10.1145/3313831.3376832  \n1  https://doi.org/10.1145/3313831.3376829  \n2  https://doi.org/10.1145/3313831.3376806  \n3  https://doi.org/10.1145/3313831.3376777  \n4  https://doi.org/10.1145/3313831.3376761  \n5  https://doi.org/10.1145/3313831.3376755  \n6  https://doi.org/10.1145/3313831.3376722  \n7  https://doi.org/10.1145/3313831.3376704  \n8  https://doi.org/10.1145/3313831.3376669  \n9  https://doi.org/10.1145/3313831.3376664  \n"
     ]
    }
   ],
   "source": [
    "best_papers = pd.read_csv(\"best_papers.csv\", delimiter=\";\", converters={\"keywords\": string_to_list})\n",
    "\n",
    "print_dataframe_summary(best_papers)"
   ]
  },
  {
   "source": [
    "## Normalisation\n",
    "\n",
    "Next, since we are interested in individual keywords and their co-occurences, we normalise the DataFrame to have one keyword per row."
   ],
   "cell_type": "markdown",
   "metadata": {}
  },
  {
   "cell_type": "code",
   "execution_count": 47,
   "metadata": {},
   "outputs": [
    {
     "output_type": "stream",
     "name": "stdout",
     "text": [
      "Information about dataframe:\n<class 'pandas.core.frame.DataFrame'>\nInt64Index: 434 entries, 0 to 84\nData columns (total 3 columns):\n #   Column            Non-Null Count  Dtype \n---  ------            --------------  ----- \n 0   year              434 non-null    int64 \n 1   original_keyword  434 non-null    object\n 2   doi               434 non-null    object\ndtypes: int64(1), object(2)\nmemory usage: 13.6+ KB\nNone\n\nTop 10 rows of dataframe:\n   year    original_keyword                                      doi\n0  2020           deception  https://doi.org/10.1145/3313831.3376832\n0  2020           influence  https://doi.org/10.1145/3313831.3376832\n0  2020     behavior change  https://doi.org/10.1145/3313831.3376832\n0  2020       cybersecurity  https://doi.org/10.1145/3313831.3376832\n0  2020         interaction  https://doi.org/10.1145/3313831.3376832\n1  2020       Visualization  https://doi.org/10.1145/3313831.3376829\n1  2020      Design Studies  https://doi.org/10.1145/3313831.3376829\n1  2020    Service-Learning  https://doi.org/10.1145/3313831.3376829\n1  2020            Pedagogy  https://doi.org/10.1145/3313831.3376829\n1  2020  Theory and Methods  https://doi.org/10.1145/3313831.3376829\n"
     ]
    }
   ],
   "source": [
    "# Explode (have one row for every keyword)\n",
    "keywords = best_papers.explode(\"keywords\").rename(columns={\"keywords\": \"original_keyword\"})\n",
    "\n",
    "print_dataframe_summary(keywords)"
   ]
  },
  {
   "source": [
    "### Pre-processing\n",
    "\n",
    "There are several possible pitfalls with the raw author keywords that have to be addressed.\n",
    "Therefore, we will pre-process the keywords using the following transformations:\n",
    "\n",
    "- Removing any possible leading and trailing whitespace\n",
    "- Transforming all keywords to their lowercase form\n",
    "- Replacing abbreviations which might be used in either short- or long-form (e.g. AI) with their long-form (e.g. artificial intelligence)\n",
    "- Replacing all dialect spellings (e.g. British English) with their American English forms (CHI allows any consistent dialect but American English is most common)"
   ],
   "cell_type": "markdown",
   "metadata": {}
  },
  {
   "cell_type": "code",
   "execution_count": 75,
   "metadata": {},
   "outputs": [
    {
     "output_type": "stream",
     "name": "stdout",
     "text": [
      "Information about dataframe:\n<class 'pandas.core.frame.DataFrame'>\nRangeIndex: 434 entries, 0 to 433\nData columns (total 4 columns):\n #   Column            Non-Null Count  Dtype \n---  ------            --------------  ----- \n 0   year              434 non-null    int64 \n 1   original_keyword  434 non-null    object\n 2   doi               434 non-null    object\n 3   keyword           434 non-null    object\ndtypes: int64(1), object(3)\nmemory usage: 13.7+ KB\nNone\n\nTop 10 rows of dataframe:\n   year    original_keyword                                      doi  \\\n0  2020           deception  https://doi.org/10.1145/3313831.3376832   \n1  2020           influence  https://doi.org/10.1145/3313831.3376832   \n2  2020     behavior change  https://doi.org/10.1145/3313831.3376832   \n3  2020       cybersecurity  https://doi.org/10.1145/3313831.3376832   \n4  2020         interaction  https://doi.org/10.1145/3313831.3376832   \n5  2020       Visualization  https://doi.org/10.1145/3313831.3376829   \n6  2020      Design Studies  https://doi.org/10.1145/3313831.3376829   \n7  2020    Service-Learning  https://doi.org/10.1145/3313831.3376829   \n8  2020            Pedagogy  https://doi.org/10.1145/3313831.3376829   \n9  2020  Theory and Methods  https://doi.org/10.1145/3313831.3376829   \n\n              keyword  \n0           deception  \n1           influence  \n2     behavior change  \n3       cybersecurity  \n4         interaction  \n5       visualization  \n6      design studies  \n7    service-learning  \n8            pedagogy  \n9  theory and methods  \n"
     ]
    }
   ],
   "source": [
    "# Remove possible leading and trailing whitespace\n",
    "keywords[\"original_keyword\"].replace(to_replace=\"(^\\s* | \\s*$)\", inplace=True)\n",
    "keywords = keywords.reset_index(drop=True)\n",
    "\n",
    "# Copy original keyword into keyword column\n",
    "keywords[\"keyword\"] = keywords[\"original_keyword\"]\n",
    "\n",
    "# Transform to lowercase\n",
    "keywords[\"keyword\"] = keywords[\"keyword\"].str.lower()\n",
    "\n",
    "# Replace abbreviations\n",
    "abbreviations = {\n",
    "    \"nhst\": \"null hypothesis significance testing\",\n",
    "    \"em\": \"electromagnetic\",\n",
    "    \"ictd\": \"information communication technologies for development\",\n",
    "    \"hci4d\": \"human-computer interaction for development\",\n",
    "    \"cci\": \"child-computer interaction\",\n",
    "    \"gis\": \"geographic information systems\",\n",
    "    \"esm\": \"experience sampling method\",\n",
    "    \"ema\": \"ecological momentary assessment\",\n",
    "    \"vru\": \"vulnerable road user\",\n",
    "    \"ehmi\": \"external human-machine-interface\",\n",
    "    \"ai\": \"artificial intelligence\",\n",
    "    \"ml\": \"machine learning\",\n",
    "    \"aac\": \"alternative and augmentative communication\",\n",
    "    \"nicu\": \"neonatal intensive care unit\",\n",
    "    \"hci\": \"human-computer interaction\",\n",
    "    \"ar\": \"augmented reality\",\n",
    "    \"vr\": \"virtual reality\"\n",
    "}\n",
    "regex_leading = r\"(^|(?<=\\/)|(?<=\\s))\"\n",
    "regex_trailing = r\"(?=.$|\\/|,|\\s*)\"\n",
    "regex_abbreviations = {f\"{regex_leading}{key}{regex_trailing}\": value.lower() for key, value in abbreviations.items()}\n",
    "keywords[\"keyword\"].replace(to_replace=regex_abbreviations, inplace=True, regex=True)\n",
    "\n",
    "# Replace dialect spellings\n",
    "dialect_spellings = {\n",
    "    \"customisation\": \"customization\",\n",
    "}\n",
    "keywords[\"keyword\"].replace(to_replace=dialect_spellings, inplace=True)\n",
    "\n",
    "print_dataframe_summary(keywords)"
   ]
  },
  {
   "source": [
    "## To Do\n",
    "\n",
    "- splitting combined expressions (e.g. AR/VR)?\n",
    "- check correlation with CCS concepts?\n",
    "- number of author keywords in best papers?"
   ],
   "cell_type": "markdown",
   "metadata": {}
  },
  {
   "cell_type": "code",
   "execution_count": null,
   "metadata": {},
   "outputs": [],
   "source": []
  }
 ]
}