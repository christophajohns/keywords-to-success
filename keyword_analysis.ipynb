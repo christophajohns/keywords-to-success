{
 "metadata": {
  "language_info": {
   "codemirror_mode": {
    "name": "ipython",
    "version": 3
   },
   "file_extension": ".py",
   "mimetype": "text/x-python",
   "name": "python",
   "nbconvert_exporter": "python",
   "pygments_lexer": "ipython3",
   "version": "3.9.1"
  },
  "orig_nbformat": 2,
  "kernelspec": {
   "name": "python3",
   "display_name": "Python 3.9.1 64-bit ('keywords-to-success-Ud2EvR0_': pipenv)",
   "metadata": {
    "interpreter": {
     "hash": "e78c3ebfc7fe987ac47f88baa309c1b2ce79ddad9e0a0dbdc3167a973eb06a5b"
    }
   }
  }
 },
 "nbformat": 4,
 "nbformat_minor": 2,
 "cells": [
  {
   "source": [
    "# Keyword Analysis of CHI Best Papers 2016-2020\n",
    "\n",
    "In this analysis, we will collect and chart the author keywords used for the Best Paper winners at the Conference on Human Factors in Computing Systems (CHI) from 2016 to 2020.\n",
    "The aim of this research is to identify commonalities between those top 1% of articles honoured by the Best Paper Committee and to explore signficant trends among those."
   ],
   "cell_type": "markdown",
   "metadata": {}
  },
  {
   "source": [
    "## Reading in the data\n",
    "\n",
    "First, we import the necessary packages and read in the keyword data from the respective file."
   ],
   "cell_type": "markdown",
   "metadata": {}
  },
  {
   "cell_type": "code",
   "execution_count": 8,
   "metadata": {},
   "outputs": [
    {
     "output_type": "stream",
     "name": "stdout",
     "text": [
      "Information about Best Papers dataframe:\n<class 'pandas.core.frame.DataFrame'>\nRangeIndex: 10 entries, 0 to 9\nData columns (total 5 columns):\n #   Column    Non-Null Count  Dtype \n---  ------    --------------  ----- \n 0   year      10 non-null     int64 \n 1   title     10 non-null     object\n 2   authors   10 non-null     object\n 3   keywords  10 non-null     object\n 4   doi       10 non-null     object\ndtypes: int64(1), object(4)\nmemory usage: 528.0+ bytes\nNone\n\nTop 10 rows of Best Papers dataframe:\n   year                                              title  \\\n0  2020  Bug or Feature? Covert Impairments to Human Co...   \n1  2020  Design Study \"Lite\" Methodology: Expediting De...   \n2  2020             Trigeminal-based Temperature Illusions   \n3  2020  Techniques for Flexible Responsive Visualizati...   \n4  2020  Beyond the Prototype: Understanding the Challe...   \n\n                                             authors  \\\n0                                    [John V. Monac]   \n1  [Uzma Haque Syeda, Prasanth Murali, Lisa Roe, ...   \n2            [Jas Brooks, Steven Nagels, Pedro Lope]   \n3           [Jane Hoffswell, Wilmot Li, Zhicheng Li]   \n4                      [Rushil Khurana, Steve Hodge]   \n\n                                            keywords  \\\n0  [deception, influence, behavior change, cybers...   \n1  [Visualization, Design Studies, Service-Learni...   \n2  [VR, trigeminal, smell, thermal, illusion, hap...   \n3  [Visualization, Responsive Design, News, Mobil...   \n4  [Hardware device realization, low volume elect...   \n\n                                       doi  \n0  https://doi.org/10.1145/3313831.3376832  \n1  https://doi.org/10.1145/3313831.3376829  \n2  https://doi.org/10.1145/3313831.3376806  \n3  https://doi.org/10.1145/3313831.3376777  \n4  https://doi.org/10.1145/3313831.3376761  \n"
     ]
    }
   ],
   "source": [
    "import pandas as pd\n",
    "\n",
    "def string_to_list(list_as_string, delimiter=\", \") -> [str]:\n",
    "    \"\"\"A simple function that splits a list input as a string by the specified delimiter and returns the list.\"\"\"\n",
    "    return list_as_string[0:-1].split(delimiter)\n",
    "\n",
    "best_papers = pd.read_csv(\"best_papers.csv\", delimiter=\";\", converters={\"keywords\": string_to_list})\n",
    "\n",
    "print(\"Information about Best Papers dataframe:\")\n",
    "print(best_papers.info())\n",
    "print()\n",
    "print(\"Top 10 rows of Best Papers dataframe:\")\n",
    "print(best_papers.head())"
   ]
  },
  {
   "source": [
    "## To Do\n",
    "\n",
    "- normalize to keywords\n",
    "- lowercase\n",
    "- replace abbreviations (e.g. AI)\n",
    "- split \"/\" cases (e.g. AR/VR)\n",
    "- check correlation with CCS concepts?\n",
    "- number of author keywords in best papers\n",
    "- american vs english forms\n",
    "- leading and trailing spaces"
   ],
   "cell_type": "markdown",
   "metadata": {}
  }
 ]
}